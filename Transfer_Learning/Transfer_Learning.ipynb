{
  "nbformat": 4,
  "nbformat_minor": 0,
  "metadata": {
    "colab": {
      "name": "Transfer_Learning.ipynb",
      "provenance": [],
      "collapsed_sections": []
    },
    "kernelspec": {
      "name": "python3",
      "display_name": "Python 3"
    },
    "accelerator": "GPU",
    "widgets": {
      "application/vnd.jupyter.widget-state+json": {
        "4c72e663daf54739a12a80eb6d8696a0": {
          "model_module": "@jupyter-widgets/controls",
          "model_name": "HBoxModel",
          "state": {
            "_view_name": "HBoxView",
            "_dom_classes": [],
            "_model_name": "HBoxModel",
            "_view_module": "@jupyter-widgets/controls",
            "_model_module_version": "1.5.0",
            "_view_count": null,
            "_view_module_version": "1.5.0",
            "box_style": "",
            "layout": "IPY_MODEL_87efe04438fa4c169ea7301068b7f360",
            "_model_module": "@jupyter-widgets/controls",
            "children": [
              "IPY_MODEL_cbf9711ff3ac439cb349bb5dde4e5b33",
              "IPY_MODEL_d1f9c070028a4ba19521684b2cbe2ed8"
            ]
          }
        },
        "87efe04438fa4c169ea7301068b7f360": {
          "model_module": "@jupyter-widgets/base",
          "model_name": "LayoutModel",
          "state": {
            "_view_name": "LayoutView",
            "grid_template_rows": null,
            "right": null,
            "justify_content": null,
            "_view_module": "@jupyter-widgets/base",
            "overflow": null,
            "_model_module_version": "1.2.0",
            "_view_count": null,
            "flex_flow": null,
            "width": null,
            "min_width": null,
            "border": null,
            "align_items": null,
            "bottom": null,
            "_model_module": "@jupyter-widgets/base",
            "top": null,
            "grid_column": null,
            "overflow_y": null,
            "overflow_x": null,
            "grid_auto_flow": null,
            "grid_area": null,
            "grid_template_columns": null,
            "flex": null,
            "_model_name": "LayoutModel",
            "justify_items": null,
            "grid_row": null,
            "max_height": null,
            "align_content": null,
            "visibility": null,
            "align_self": null,
            "height": null,
            "min_height": null,
            "padding": null,
            "grid_auto_rows": null,
            "grid_gap": null,
            "max_width": null,
            "order": null,
            "_view_module_version": "1.2.0",
            "grid_template_areas": null,
            "object_position": null,
            "object_fit": null,
            "grid_auto_columns": null,
            "margin": null,
            "display": null,
            "left": null
          }
        },
        "cbf9711ff3ac439cb349bb5dde4e5b33": {
          "model_module": "@jupyter-widgets/controls",
          "model_name": "IntProgressModel",
          "state": {
            "_view_name": "ProgressView",
            "style": "IPY_MODEL_8c6f857bc73247ed8990a9f169b9642f",
            "_dom_classes": [],
            "description": "100%",
            "_model_name": "IntProgressModel",
            "bar_style": "success",
            "max": 46827520,
            "_view_module": "@jupyter-widgets/controls",
            "_model_module_version": "1.5.0",
            "value": 46827520,
            "_view_count": null,
            "_view_module_version": "1.5.0",
            "orientation": "horizontal",
            "min": 0,
            "description_tooltip": null,
            "_model_module": "@jupyter-widgets/controls",
            "layout": "IPY_MODEL_f1b290c4cdd14b3697c1bfb0a4d98918"
          }
        },
        "d1f9c070028a4ba19521684b2cbe2ed8": {
          "model_module": "@jupyter-widgets/controls",
          "model_name": "HTMLModel",
          "state": {
            "_view_name": "HTMLView",
            "style": "IPY_MODEL_460be04290c645e187e590553873c437",
            "_dom_classes": [],
            "description": "",
            "_model_name": "HTMLModel",
            "placeholder": "​",
            "_view_module": "@jupyter-widgets/controls",
            "_model_module_version": "1.5.0",
            "value": " 44.7M/44.7M [00:10&lt;00:00, 4.42MB/s]",
            "_view_count": null,
            "_view_module_version": "1.5.0",
            "description_tooltip": null,
            "_model_module": "@jupyter-widgets/controls",
            "layout": "IPY_MODEL_63d378b8430c4d6da3de1521bd74ab40"
          }
        },
        "8c6f857bc73247ed8990a9f169b9642f": {
          "model_module": "@jupyter-widgets/controls",
          "model_name": "ProgressStyleModel",
          "state": {
            "_view_name": "StyleView",
            "_model_name": "ProgressStyleModel",
            "description_width": "initial",
            "_view_module": "@jupyter-widgets/base",
            "_model_module_version": "1.5.0",
            "_view_count": null,
            "_view_module_version": "1.2.0",
            "bar_color": null,
            "_model_module": "@jupyter-widgets/controls"
          }
        },
        "f1b290c4cdd14b3697c1bfb0a4d98918": {
          "model_module": "@jupyter-widgets/base",
          "model_name": "LayoutModel",
          "state": {
            "_view_name": "LayoutView",
            "grid_template_rows": null,
            "right": null,
            "justify_content": null,
            "_view_module": "@jupyter-widgets/base",
            "overflow": null,
            "_model_module_version": "1.2.0",
            "_view_count": null,
            "flex_flow": null,
            "width": null,
            "min_width": null,
            "border": null,
            "align_items": null,
            "bottom": null,
            "_model_module": "@jupyter-widgets/base",
            "top": null,
            "grid_column": null,
            "overflow_y": null,
            "overflow_x": null,
            "grid_auto_flow": null,
            "grid_area": null,
            "grid_template_columns": null,
            "flex": null,
            "_model_name": "LayoutModel",
            "justify_items": null,
            "grid_row": null,
            "max_height": null,
            "align_content": null,
            "visibility": null,
            "align_self": null,
            "height": null,
            "min_height": null,
            "padding": null,
            "grid_auto_rows": null,
            "grid_gap": null,
            "max_width": null,
            "order": null,
            "_view_module_version": "1.2.0",
            "grid_template_areas": null,
            "object_position": null,
            "object_fit": null,
            "grid_auto_columns": null,
            "margin": null,
            "display": null,
            "left": null
          }
        },
        "460be04290c645e187e590553873c437": {
          "model_module": "@jupyter-widgets/controls",
          "model_name": "DescriptionStyleModel",
          "state": {
            "_view_name": "StyleView",
            "_model_name": "DescriptionStyleModel",
            "description_width": "",
            "_view_module": "@jupyter-widgets/base",
            "_model_module_version": "1.5.0",
            "_view_count": null,
            "_view_module_version": "1.2.0",
            "_model_module": "@jupyter-widgets/controls"
          }
        },
        "63d378b8430c4d6da3de1521bd74ab40": {
          "model_module": "@jupyter-widgets/base",
          "model_name": "LayoutModel",
          "state": {
            "_view_name": "LayoutView",
            "grid_template_rows": null,
            "right": null,
            "justify_content": null,
            "_view_module": "@jupyter-widgets/base",
            "overflow": null,
            "_model_module_version": "1.2.0",
            "_view_count": null,
            "flex_flow": null,
            "width": null,
            "min_width": null,
            "border": null,
            "align_items": null,
            "bottom": null,
            "_model_module": "@jupyter-widgets/base",
            "top": null,
            "grid_column": null,
            "overflow_y": null,
            "overflow_x": null,
            "grid_auto_flow": null,
            "grid_area": null,
            "grid_template_columns": null,
            "flex": null,
            "_model_name": "LayoutModel",
            "justify_items": null,
            "grid_row": null,
            "max_height": null,
            "align_content": null,
            "visibility": null,
            "align_self": null,
            "height": null,
            "min_height": null,
            "padding": null,
            "grid_auto_rows": null,
            "grid_gap": null,
            "max_width": null,
            "order": null,
            "_view_module_version": "1.2.0",
            "grid_template_areas": null,
            "object_position": null,
            "object_fit": null,
            "grid_auto_columns": null,
            "margin": null,
            "display": null,
            "left": null
          }
        }
      }
    }
  },
  "cells": [
    {
      "cell_type": "markdown",
      "metadata": {
        "id": "a1FEFSpcL53b",
        "colab_type": "text"
      },
      "source": [
        "# Transfer Learning"
      ]
    },
    {
      "cell_type": "code",
      "metadata": {
        "id": "BmWyx_jZHzTU",
        "colab_type": "code",
        "outputId": "7ed6f697-d30e-42a6-d3d1-9271b66a2708",
        "colab": {
          "base_uri": "https://localhost:8080/",
          "height": 154
        }
      },
      "source": [
        "from google.colab import drive\n",
        "\n",
        "drive.mount('/content/drive', force_remount=True)\n",
        "\n",
        "FOLDERNAME = 'Deep_Learning_Udemy/a6_Transfer_Learning'\n",
        "\n",
        "assert FOLDERNAME is not None, \"[!] Enter the foldername.\"\n",
        "\n",
        "%cd drive/My\\ Drive\n",
        "%cp -r $FOLDERNAME ../../\n",
        "%cd ../../\n",
        "\n"
      ],
      "execution_count": 0,
      "outputs": [
        {
          "output_type": "stream",
          "text": [
            "Go to this URL in a browser: https://accounts.google.com/o/oauth2/auth?client_id=947318989803-6bn6qk8qdgf4n4g3pfee6491hc0brc4i.apps.googleusercontent.com&redirect_uri=urn%3aietf%3awg%3aoauth%3a2.0%3aoob&response_type=code&scope=email%20https%3a%2f%2fwww.googleapis.com%2fauth%2fdocs.test%20https%3a%2f%2fwww.googleapis.com%2fauth%2fdrive%20https%3a%2f%2fwww.googleapis.com%2fauth%2fdrive.photos.readonly%20https%3a%2f%2fwww.googleapis.com%2fauth%2fpeopleapi.readonly\n",
            "\n",
            "Enter your authorization code:\n",
            "··········\n",
            "Mounted at /content/drive\n",
            "/content/drive/My Drive\n",
            "/content\n"
          ],
          "name": "stdout"
        }
      ]
    },
    {
      "cell_type": "code",
      "metadata": {
        "id": "lnPwfOy8DHpo",
        "colab_type": "code",
        "colab": {}
      },
      "source": [
        "import torch\n",
        "import torch.nn as nn\n",
        "import torch.optim as optim\n",
        "from torch.optim import lr_scheduler\n",
        "import torchvision\n",
        "from torchvision import datasets, models, transforms\n",
        "import numpy as np\n",
        "import os\n",
        "from torch.autograd import  Variable"
      ],
      "execution_count": 0,
      "outputs": []
    },
    {
      "cell_type": "markdown",
      "metadata": {
        "id": "77xjes02Mo5C",
        "colab_type": "text"
      },
      "source": [
        "# Load Data"
      ]
    },
    {
      "cell_type": "code",
      "metadata": {
        "id": "O9T44bB1MS1d",
        "colab_type": "code",
        "colab": {}
      },
      "source": [
        "# Data augmentation and normalization for training\n",
        "# Just normalization for validation\n",
        "\n",
        "data_transforms = {\n",
        "    'train': transforms.Compose([\n",
        "                                 transforms.RandomResizedCrop(224),\n",
        "                                 transforms.RandomHorizontalFlip(),\n",
        "                                 transforms.ToTensor(),\n",
        "                                 transforms.Normalize([0.485, 0.486, 0.406], [0.229, 0.224, 0.225])\n",
        "                                 ]),\n",
        "                  'val': transforms.Compose([\n",
        "                                             transforms.Resize(256),\n",
        "                                             transforms.CenterCrop(224),\n",
        "                                             transforms.ToTensor(),\n",
        "                                             transforms.Normalize([0.485, 0.486, 0.406], [0.229, 0.224, 0.225])\n",
        "                  ])}"
      ],
      "execution_count": 0,
      "outputs": []
    },
    {
      "cell_type": "code",
      "metadata": {
        "id": "s7XgoCWeOVO4",
        "colab_type": "code",
        "outputId": "81178f05-4d4e-4e2d-bfd4-6611384b4176",
        "colab": {
          "base_uri": "https://localhost:8080/",
          "height": 101
        }
      },
      "source": [
        "data_dir = \"/content/drive/My Drive/Deep_Learning_Udemy/a6_Transfer_Learning/hymenoptera_data\"\n",
        "# Create a dictionary that contains the informations of the images in both the training and the validation sets\n",
        "image_datasets = {x: datasets.ImageFolder(os.path.join(data_dir,x), data_transforms[x]) for x in ['train', 'val']}\n",
        "# Create a dictionart that contains the data loader\n",
        "dataloaders = {x: torch.utils.data.DataLoader(image_datasets[x],batch_size=4, shuffle=True) for x in ['train', 'val'] }\n",
        "# Create a dictionary that contains size of each dataset (training and validation)\n",
        "data_size = {x: len(image_datasets[x]) for x in ['train', 'val']}\n",
        "# Get the class names\n",
        "class_names = image_datasets['train'].classes\n",
        "\n",
        "# Print out the results\n",
        "print(\"Class Names: {}\".format(class_names))\n",
        "print(\"There are {} batches in the training set\".format(len(dataloaders['train'])))\n",
        "print(\"There are {} batches in the validation set\".format(len(dataloaders['val'])))\n",
        "print(\"There are {} training images\".format(data_size['train']))\n",
        "print(\"There are {} validation images\".format(data_size['val']))"
      ],
      "execution_count": 0,
      "outputs": [
        {
          "output_type": "stream",
          "text": [
            "Class Names: ['ants', 'bees']\n",
            "There are 61 batches in the training set\n",
            "There are 39 batches in the validation set\n",
            "There are 244 training images\n",
            "There are 153 validation images\n"
          ],
          "name": "stdout"
        }
      ]
    },
    {
      "cell_type": "code",
      "metadata": {
        "id": "yix_rwPTA6Fk",
        "colab_type": "code",
        "outputId": "85216fac-cfc6-46be-fdfe-5bb9fe7033aa",
        "colab": {
          "base_uri": "https://localhost:8080/",
          "height": 82,
          "referenced_widgets": [
            "4c72e663daf54739a12a80eb6d8696a0",
            "87efe04438fa4c169ea7301068b7f360",
            "cbf9711ff3ac439cb349bb5dde4e5b33",
            "d1f9c070028a4ba19521684b2cbe2ed8",
            "8c6f857bc73247ed8990a9f169b9642f",
            "f1b290c4cdd14b3697c1bfb0a4d98918",
            "460be04290c645e187e590553873c437",
            "63d378b8430c4d6da3de1521bd74ab40"
          ]
        }
      },
      "source": [
        "# Load the ResNet\n",
        "model_conv = torchvision.models.resnet18(pretrained=True)"
      ],
      "execution_count": 0,
      "outputs": [
        {
          "output_type": "stream",
          "text": [
            "Downloading: \"https://download.pytorch.org/models/resnet18-5c106cde.pth\" to /root/.cache/torch/checkpoints/resnet18-5c106cde.pth\n"
          ],
          "name": "stderr"
        },
        {
          "output_type": "display_data",
          "data": {
            "application/vnd.jupyter.widget-view+json": {
              "model_id": "4c72e663daf54739a12a80eb6d8696a0",
              "version_minor": 0,
              "version_major": 2
            },
            "text/plain": [
              "HBox(children=(IntProgress(value=0, max=46827520), HTML(value='')))"
            ]
          },
          "metadata": {
            "tags": []
          }
        },
        {
          "output_type": "stream",
          "text": [
            "\n"
          ],
          "name": "stdout"
        }
      ]
    },
    {
      "cell_type": "code",
      "metadata": {
        "id": "NVva1BnxMFtS",
        "colab_type": "code",
        "colab": {}
      },
      "source": [
        "# Freeze all the layers in the network\n",
        "for param in model_conv.parameters():\n",
        "  param.requires_grad = False"
      ],
      "execution_count": 0,
      "outputs": []
    },
    {
      "cell_type": "code",
      "metadata": {
        "id": "m_PyNhtrMfBv",
        "colab_type": "code",
        "colab": {}
      },
      "source": [
        "# Get the input of the last layer (or number of neurons in the layer proceeding the last layer)\n",
        "num_ftrs = model_conv.fc.in_features\n",
        "# Reconstruct the last layer (output layer) to have only two classes\n",
        "model_conv.fc = nn.Linear(in_features=num_ftrs, out_features=2)"
      ],
      "execution_count": 0,
      "outputs": []
    },
    {
      "cell_type": "code",
      "metadata": {
        "id": "4Ddf9KcBM4ti",
        "colab_type": "code",
        "colab": {}
      },
      "source": [
        "# Device Configuration\n",
        "device = torch.device('cuda' if torch.cuda.is_available() else 'cpu')\n",
        "model_conv = model_conv.to(device)"
      ],
      "execution_count": 0,
      "outputs": []
    },
    {
      "cell_type": "code",
      "metadata": {
        "id": "t9_fTygWNTcQ",
        "colab_type": "code",
        "outputId": "0b698319-00b3-4b04-d879-44f6cf268f24",
        "colab": {
          "base_uri": "https://localhost:8080/",
          "height": 218
        }
      },
      "source": [
        "# Understand What is happening\n",
        "iteration = 0\n",
        "correct = 0\n",
        "for inputs, labels in dataloaders['train']:\n",
        "  if iteration == 1:\n",
        "    break\n",
        "  inputs = Variable(inputs)\n",
        "  labels = Variable(labels)\n",
        "  inputs = inputs.to(device)\n",
        "  labels = labels.to(device)\n",
        "  print(\"For one iteration this is what happens: \")\n",
        "  print(\"Input Shape: {}\".format(inputs.shape))\n",
        "  print(\"Labels Shape: {}\".format(labels.shape))\n",
        "  print(\"Labels are: {}\".format(labels))\n",
        "\n",
        "  output = model_conv(inputs)\n",
        "  print(\"Output Tensor: {}\".format(output))\n",
        "  print(\"Output Shape: {}\".format(output.shape))\n",
        "  _, predicted = torch.max(output, 1)\n",
        "  print(\"Prediction : {}\".format(predicted))\n",
        "  print(\"Prediction Shape: {}\".format(predicted.shape))\n",
        "  correct += (predicted == labels).sum()\n",
        "  print(\"Correct Prediction: {}\".format(correct))\n",
        "\n",
        "  iteration += 1\n",
        "\n"
      ],
      "execution_count": 0,
      "outputs": [
        {
          "output_type": "stream",
          "text": [
            "For one iteration this is what happens: \n",
            "Input Shape: torch.Size([4, 3, 224, 224])\n",
            "Labels Shape: torch.Size([4])\n",
            "Labels are: tensor([1, 1, 1, 0], device='cuda:0')\n",
            "Output Tensor: tensor([[ 0.0595, -0.4247],\n",
            "        [ 0.4569, -0.4204],\n",
            "        [-0.3231, -0.6587],\n",
            "        [-0.6905, -0.7709]], device='cuda:0', grad_fn=<AddmmBackward>)\n",
            "Output Shape: torch.Size([4, 2])\n",
            "Prediction : tensor([0, 0, 0, 0], device='cuda:0')\n",
            "Prediction Shape: torch.Size([4])\n",
            "Correct Prediction: 1\n"
          ],
          "name": "stdout"
        }
      ]
    },
    {
      "cell_type": "code",
      "metadata": {
        "id": "jecPUJCIPnUy",
        "colab_type": "code",
        "colab": {}
      },
      "source": [
        "# Loss Function\n",
        "criterion = nn.CrossEntropyLoss()\n",
        "# Optimizer\n",
        "optimizer = optim.SGD(model_conv.fc.parameters(), lr = 0.001, momentum = 0.9)\n",
        "#Try experimenting with : optim.Adam(model_conv.fc.parameters(), lr =0.001)\n",
        "# Decay learning rate by a factor 0.1 every 7 epochs\n",
        "exp_lr_schedular = lr_scheduler.StepLR(optimizer, step_size = 7, gamma = 0.1 )"
      ],
      "execution_count": 0,
      "outputs": []
    },
    {
      "cell_type": "code",
      "metadata": {
        "id": "kaznYRryBfYz",
        "colab_type": "code",
        "outputId": "46ab919b-d093-44d1-d4fe-7fac969da44f",
        "colab": {
          "base_uri": "https://localhost:8080/",
          "height": 34
        }
      },
      "source": [
        "a = 0.001 * (0.1 ** (8//7))\n",
        "a"
      ],
      "execution_count": 0,
      "outputs": [
        {
          "output_type": "execute_result",
          "data": {
            "text/plain": [
              "0.0001"
            ]
          },
          "metadata": {
            "tags": []
          },
          "execution_count": 11
        }
      ]
    },
    {
      "cell_type": "code",
      "metadata": {
        "id": "nLqsuShzB2EJ",
        "colab_type": "code",
        "outputId": "19468ce0-0397-450e-b920-3d1e11a24458",
        "colab": {
          "base_uri": "https://localhost:8080/",
          "height": 507
        }
      },
      "source": [
        "# Training the network\n",
        "num_epochs = 25\n",
        "for epoch in range (num_epochs):\n",
        "  correct=0\n",
        "  exp_lr_schedular.step()\n",
        "  for images, labels in dataloaders['train']:\n",
        "    images = Variable(images)\n",
        "    labels = Variable(labels)\n",
        "    images = images.to(device)\n",
        "    labels = labels.to(device)\n",
        "    optimizer.zero_grad()\n",
        "    outputs = model_conv(images)\n",
        "    \n",
        "    loss = criterion(outputs, labels)\n",
        "    loss.backward()\n",
        "    optimizer.step()\n",
        "    _, predicted = torch.max(outputs, 1)\n",
        "    correct += (predicted == labels).sum()\n",
        "  \n",
        "  train_acc = 100 * correct / data_size['train']\n",
        "  print(\"Epoch [{}/{}] Loss: {:.4f} Training Accuracy: {}%\".format(epoch, num_epochs, loss.item(),train_acc)) "
      ],
      "execution_count": 0,
      "outputs": [
        {
          "output_type": "stream",
          "text": [
            "/usr/local/lib/python3.6/dist-packages/torch/optim/lr_scheduler.py:123: UserWarning: Detected call of `lr_scheduler.step()` before `optimizer.step()`. In PyTorch 1.1.0 and later, you should call them in the opposite order: `optimizer.step()` before `lr_scheduler.step()`.  Failure to do this will result in PyTorch skipping the first value of the learning rate schedule. See more details at https://pytorch.org/docs/stable/optim.html#how-to-adjust-learning-rate\n",
            "  \"https://pytorch.org/docs/stable/optim.html#how-to-adjust-learning-rate\", UserWarning)\n",
            "/pytorch/aten/src/ATen/native/BinaryOps.cpp:81: UserWarning: Integer division of tensors using div or / is deprecated, and in a future release div will perform true division as in Python 3. Use true_divide or floor_divide (// in Python) instead.\n"
          ],
          "name": "stderr"
        },
        {
          "output_type": "stream",
          "text": [
            "Epoch [0/25] Loss: 0.2295 Training Accuracy: 64%\n",
            "Epoch [1/25] Loss: 0.3684 Training Accuracy: 79%\n",
            "Epoch [2/25] Loss: 0.4553 Training Accuracy: 76%\n",
            "Epoch [3/25] Loss: 0.1704 Training Accuracy: 78%\n",
            "Epoch [4/25] Loss: 0.0626 Training Accuracy: 81%\n",
            "Epoch [5/25] Loss: 0.0116 Training Accuracy: 84%\n",
            "Epoch [6/25] Loss: 0.0095 Training Accuracy: 87%\n",
            "Epoch [7/25] Loss: 0.1259 Training Accuracy: 87%\n",
            "Epoch [8/25] Loss: 0.2670 Training Accuracy: 85%\n",
            "Epoch [9/25] Loss: 0.0175 Training Accuracy: 82%\n",
            "Epoch [10/25] Loss: 0.8091 Training Accuracy: 85%\n",
            "Epoch [11/25] Loss: 0.0972 Training Accuracy: 84%\n",
            "Epoch [12/25] Loss: 0.1617 Training Accuracy: 81%\n",
            "Epoch [13/25] Loss: 0.0086 Training Accuracy: 81%\n",
            "Epoch [14/25] Loss: 0.0216 Training Accuracy: 79%\n",
            "Epoch [15/25] Loss: 0.3476 Training Accuracy: 87%\n",
            "Epoch [16/25] Loss: 0.2151 Training Accuracy: 82%\n",
            "Epoch [17/25] Loss: 0.5830 Training Accuracy: 84%\n",
            "Epoch [18/25] Loss: 0.0881 Training Accuracy: 83%\n",
            "Epoch [19/25] Loss: 0.1326 Training Accuracy: 86%\n",
            "Epoch [20/25] Loss: 0.0059 Training Accuracy: 81%\n",
            "Epoch [21/25] Loss: 0.8407 Training Accuracy: 85%\n",
            "Epoch [22/25] Loss: 0.0007 Training Accuracy: 86%\n",
            "Epoch [23/25] Loss: 0.1474 Training Accuracy: 87%\n",
            "Epoch [24/25] Loss: 0.9988 Training Accuracy: 85%\n"
          ],
          "name": "stdout"
        }
      ]
    },
    {
      "cell_type": "code",
      "metadata": {
        "id": "1gaAAjCnFcxd",
        "colab_type": "code",
        "outputId": "e5b1eb69-9971-4b98-df46-407d573934eb",
        "colab": {
          "base_uri": "https://localhost:8080/",
          "height": 34
        }
      },
      "source": [
        "# Test Model\n",
        "model_conv.eval()\n",
        "with torch.no_grad():\n",
        "  correct = 0\n",
        "  total = 0\n",
        "  for images, labels in dataloaders['val']:\n",
        "    images = Variable(images).to(device)\n",
        "    labels = Variable(labels).to(device)\n",
        "    outputs = model_conv(images)\n",
        "    _, predicted = torch.max(outputs.data, 1)\n",
        "    correct += (predicted == labels).sum().item()\n",
        "    total += labels.size(0)\n",
        "     \n",
        "  print(\"Test Accuracy: {}\".format(100* (correct/total)))\n",
        "\n"
      ],
      "execution_count": 0,
      "outputs": [
        {
          "output_type": "stream",
          "text": [
            "Test Accuracy: 94.77124183006535\n"
          ],
          "name": "stdout"
        }
      ]
    },
    {
      "cell_type": "code",
      "metadata": {
        "id": "7IJ-zjh8FbHC",
        "colab_type": "code",
        "colab": {}
      },
      "source": [
        "import matplotlib.pyplot as plt"
      ],
      "execution_count": 0,
      "outputs": []
    },
    {
      "cell_type": "code",
      "metadata": {
        "id": "j0PRRd6WDZ2-",
        "colab_type": "code",
        "outputId": "6da1b759-3e43-4608-ebdd-6bd0363516d9",
        "colab": {
          "base_uri": "https://localhost:8080/",
          "height": 281
        }
      },
      "source": [
        "# Visualize some predictions\n",
        "import matplotlib.pyplot as plt\n",
        "fig = plt.figure()\n",
        "shown_batch = 0\n",
        "index = 0\n",
        "with torch.no_grad():\n",
        "  correct = 0\n",
        "  total = 0\n",
        "  for images, labels in dataloaders['val']:\n",
        "    if shown_batch == 1:\n",
        "      break\n",
        "    shown_batch +=1\n",
        "    images = Variable(images).to(device)\n",
        "    labels = Variable(labels).to(device)\n",
        "    outputs = model_conv(images)                    # the output is of shape (4,2)\n",
        "    _, predicted = torch.max(outputs.data, 1)       # the prediction is of shape (4) ------------> [0, 0, 0, 1]\n",
        "    print(predicted.shape)\n",
        "    for i in range(4):\n",
        "      index+=1\n",
        "      ax = plt.subplot(2, 2, index)\n",
        "      ax.axis('off')\n",
        "      ax.set_title(\"Prediction Label: {}\".format(class_names[predicted[i]]))\n",
        "      input_img = images.cpu().data[i]                              # Get the tesnsor of the image and put it to cpu\n",
        "      inp = input_img.numpy().transpose((1, 2, 0))                  # If we have tensor of shape (2, 3, 4) ----> it becomes(3, 4, 2)\n",
        "      mean = np.array([0.485, 0.486, 0.406])\n",
        "      std = np.array([0.229, 0.224, 0.225])\n",
        "      inp = std * inp + mean\n",
        "      inp = np.clip(inp, 0, 1)\n",
        "      plt.imshow(inp)\n",
        "\n",
        "     "
      ],
      "execution_count": 0,
      "outputs": [
        {
          "output_type": "stream",
          "text": [
            "torch.Size([4])\n"
          ],
          "name": "stdout"
        },
        {
          "output_type": "display_data",
          "data": {
            "image/png": "[encoded data removed]",
            "text/plain": [
              "<Figure size 432x288 with 4 Axes>"
            ]
          },
          "metadata": {
            "tags": [],
            "needs_background": "light"
          }
        }
      ]
    },
    {
      "cell_type": "code",
      "metadata": {
        "id": "vqak8UMBFbrk",
        "colab_type": "code",
        "colab": {}
      },
      "source": [
        ""
      ],
      "execution_count": 0,
      "outputs": []
    }
  ]
}